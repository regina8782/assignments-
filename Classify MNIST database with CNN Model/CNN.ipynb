{
 "cells": [
  {
   "cell_type": "code",
   "execution_count": 6,
   "metadata": {},
   "outputs": [],
   "source": [
    "import keras\n",
    "from keras.datasets import cifar10\n",
    "from keras.models import Sequential\n",
    "from keras.layers import Dense, Dropout, Flatten\n",
    "from keras.layers import Conv2D, MaxPooling2D"
   ]
  },
  {
   "cell_type": "code",
   "execution_count": 39,
   "metadata": {},
   "outputs": [],
   "source": [
    "batch_size = 128 \n",
    "num_classes = 10 \n",
    "epochs = 30 \n",
    "\n",
    "(x_train, y_train), (x_test, y_test) = cifar10.load_data()"
   ]
  },
  {
   "cell_type": "code",
   "execution_count": 40,
   "metadata": {},
   "outputs": [
    {
     "name": "stdout",
     "output_type": "stream",
     "text": [
      "(50000, 32, 32, 3)\n"
     ]
    }
   ],
   "source": [
    "print(x_train.shape) \n"
   ]
  },
  {
   "cell_type": "code",
   "execution_count": 41,
   "metadata": {},
   "outputs": [
    {
     "name": "stdout",
     "output_type": "stream",
     "text": [
      "x_train.shape: (50000, 32, 32, 3)\n",
      "50000 train samples\n",
      "10000 test samples\n"
     ]
    }
   ],
   "source": [
    "x_train = x_train.reshape(x_train.shape[0], 32, 32, 3).astype('float32') \n",
    "x_test = x_test.reshape(x_test.shape[0], 32, 32, 3).astype('float32')\n",
    "x_train /= 255\n",
    "x_test /= 255\n",
    "print('x_train.shape:', x_train.shape)\n",
    "print(x_train.shape[0], 'train samples')\n",
    "print(x_test.shape[0], 'test samples')\n",
    "\n",
    "y_train = keras.utils.to_categorical(y_train, num_classes)\n",
    "y_test = keras.utils.to_categorical(y_test, num_classes)"
   ]
  },
  {
   "cell_type": "code",
   "execution_count": 42,
   "metadata": {},
   "outputs": [
    {
     "name": "stderr",
     "output_type": "stream",
     "text": [
      "D:\\Programs\\Anaconda\\envs\\testAI\\lib\\site-packages\\ipykernel_launcher.py:3: UserWarning: Update your `Conv2D` call to the Keras 2 API: `Conv2D(32, (3, 3), activation=\"relu\", input_shape=(32, 32, 3..., padding=\"same\")`\n",
      "  This is separate from the ipykernel package so we can avoid doing imports until\n",
      "D:\\Programs\\Anaconda\\envs\\testAI\\lib\\site-packages\\ipykernel_launcher.py:8: UserWarning: Update your `Conv2D` call to the Keras 2 API: `Conv2D(64, (3, 3), activation=\"relu\", input_shape=(32, 32, 3..., padding=\"same\")`\n",
      "  \n",
      "D:\\Programs\\Anaconda\\envs\\testAI\\lib\\site-packages\\ipykernel_launcher.py:13: UserWarning: Update your `Conv2D` call to the Keras 2 API: `Conv2D(128, (3, 3), activation=\"relu\", input_shape=(32, 32, 3..., padding=\"same\")`\n",
      "  del sys.path[0]\n"
     ]
    }
   ],
   "source": [
    "model = Sequential()\n",
    "\n",
    "model.add(Conv2D(32,(3, 3), border_mode = 'same', activation = 'relu', input_shape = (32,32,3)))\n",
    "model.add(Conv2D(32,(3, 3), activation = 'relu'))\n",
    "model.add(MaxPooling2D(pool_size = (2,2)))\n",
    "model.add(Dropout(0.25))\n",
    "\n",
    "model.add(Conv2D(64,(3, 3), border_mode = 'same', activation = 'relu', input_shape = (32,32,3)))\n",
    "model.add(Conv2D(64,(3, 3), activation = 'relu'))\n",
    "model.add(MaxPooling2D(pool_size = (2,2)))\n",
    "model.add(Dropout(0.25))\n",
    "\n",
    "model.add(Conv2D(128,(3, 3), border_mode = 'same', activation = 'relu', input_shape = (32,32,3)))\n",
    "model.add(Conv2D(128,(3, 3), activation = 'relu'))\n",
    "model.add(MaxPooling2D(pool_size = (2,2)))\n",
    "model.add(Dropout(0.25))\n",
    "\n",
    "model.add(Flatten())\n",
    "model.add(Dense(128, activation = 'relu'))\n",
    "model.add(Dense(128, activation = 'relu'))\n",
    "model.add(Dense(128, activation = 'relu'))\n",
    "model.add(Dense(128, activation = 'relu'))\n",
    "model.add(Dense(128, activation = 'relu'))\n",
    "\n",
    "model.add(Dropout(0.5))\n",
    "model.add(Dense(num_classes, activation = 'softmax'))\n",
    "\n"
   ]
  },
  {
   "cell_type": "code",
   "execution_count": 43,
   "metadata": {},
   "outputs": [
    {
     "name": "stdout",
     "output_type": "stream",
     "text": [
      "Train on 50000 samples, validate on 10000 samples\n",
      "Epoch 1/30\n",
      "50000/50000 [==============================] - 115s 2ms/step - loss: 2.1872 - accuracy: 0.1715 - val_loss: 2.0278 - val_accuracy: 0.2659\n",
      "Epoch 2/30\n",
      "50000/50000 [==============================] - 113s 2ms/step - loss: 1.8727 - accuracy: 0.3058 - val_loss: 1.7391 - val_accuracy: 0.3695\n",
      "Epoch 3/30\n",
      "50000/50000 [==============================] - 115s 2ms/step - loss: 1.6707 - accuracy: 0.3870 - val_loss: 1.4845 - val_accuracy: 0.4552\n",
      "Epoch 4/30\n",
      "50000/50000 [==============================] - 116s 2ms/step - loss: 1.5068 - accuracy: 0.4576 - val_loss: 1.3568 - val_accuracy: 0.5019\n",
      "Epoch 5/30\n",
      "50000/50000 [==============================] - 116s 2ms/step - loss: 1.3712 - accuracy: 0.5122 - val_loss: 1.1920 - val_accuracy: 0.5670\n",
      "Epoch 6/30\n",
      "50000/50000 [==============================] - 118s 2ms/step - loss: 1.2577 - accuracy: 0.5577 - val_loss: 1.1613 - val_accuracy: 0.5775\n",
      "Epoch 7/30\n",
      "50000/50000 [==============================] - 118s 2ms/step - loss: 1.1663 - accuracy: 0.5927 - val_loss: 1.1246 - val_accuracy: 0.6052\n",
      "Epoch 8/30\n",
      "50000/50000 [==============================] - 118s 2ms/step - loss: 1.0821 - accuracy: 0.6270 - val_loss: 0.9511 - val_accuracy: 0.6639\n",
      "Epoch 9/30\n",
      "50000/50000 [==============================] - 119s 2ms/step - loss: 1.0119 - accuracy: 0.6530 - val_loss: 1.0954 - val_accuracy: 0.6357\n",
      "Epoch 10/30\n",
      "50000/50000 [==============================] - 119s 2ms/step - loss: 0.9524 - accuracy: 0.6773 - val_loss: 0.9137 - val_accuracy: 0.6870\n",
      "Epoch 11/30\n",
      "50000/50000 [==============================] - 120s 2ms/step - loss: 0.8951 - accuracy: 0.6977 - val_loss: 0.8335 - val_accuracy: 0.7135\n",
      "Epoch 12/30\n",
      "50000/50000 [==============================] - 119s 2ms/step - loss: 0.8469 - accuracy: 0.7151 - val_loss: 0.8853 - val_accuracy: 0.6962\n",
      "Epoch 13/30\n",
      "50000/50000 [==============================] - 116s 2ms/step - loss: 0.8035 - accuracy: 0.7299 - val_loss: 0.8512 - val_accuracy: 0.7049\n",
      "Epoch 14/30\n",
      "50000/50000 [==============================] - 116s 2ms/step - loss: 0.7683 - accuracy: 0.7425 - val_loss: 0.8278 - val_accuracy: 0.7188\n",
      "Epoch 15/30\n",
      "50000/50000 [==============================] - 116s 2ms/step - loss: 0.7299 - accuracy: 0.7557 - val_loss: 0.7962 - val_accuracy: 0.7319\n",
      "Epoch 16/30\n",
      "50000/50000 [==============================] - 115s 2ms/step - loss: 0.7020 - accuracy: 0.7655 - val_loss: 0.8156 - val_accuracy: 0.7358\n",
      "Epoch 17/30\n",
      "50000/50000 [==============================] - 116s 2ms/step - loss: 0.6725 - accuracy: 0.7766 - val_loss: 0.7448 - val_accuracy: 0.7526\n",
      "Epoch 18/30\n",
      "50000/50000 [==============================] - 116s 2ms/step - loss: 0.6463 - accuracy: 0.7842 - val_loss: 0.7088 - val_accuracy: 0.7676\n",
      "Epoch 19/30\n",
      "50000/50000 [==============================] - 116s 2ms/step - loss: 0.6301 - accuracy: 0.7896 - val_loss: 0.6663 - val_accuracy: 0.7714\n",
      "Epoch 20/30\n",
      "50000/50000 [==============================] - 116s 2ms/step - loss: 0.6091 - accuracy: 0.7980 - val_loss: 0.8525 - val_accuracy: 0.7310\n",
      "Epoch 21/30\n",
      "50000/50000 [==============================] - 119s 2ms/step - loss: 0.5910 - accuracy: 0.8028 - val_loss: 0.6927 - val_accuracy: 0.7714\n",
      "Epoch 22/30\n",
      "50000/50000 [==============================] - 122s 2ms/step - loss: 0.5709 - accuracy: 0.8095 - val_loss: 0.6884 - val_accuracy: 0.7720\n",
      "Epoch 23/30\n",
      "50000/50000 [==============================] - 121s 2ms/step - loss: 0.5571 - accuracy: 0.8160 - val_loss: 0.6743 - val_accuracy: 0.7834\n",
      "Epoch 24/30\n",
      "50000/50000 [==============================] - 121s 2ms/step - loss: 0.5378 - accuracy: 0.8213 - val_loss: 0.6686 - val_accuracy: 0.7806\n",
      "Epoch 25/30\n",
      "50000/50000 [==============================] - 122s 2ms/step - loss: 0.5224 - accuracy: 0.8261 - val_loss: 0.6710 - val_accuracy: 0.7871\n",
      "Epoch 26/30\n",
      "50000/50000 [==============================] - 120s 2ms/step - loss: 0.5100 - accuracy: 0.8293 - val_loss: 0.6282 - val_accuracy: 0.8013\n",
      "Epoch 27/30\n",
      "50000/50000 [==============================] - 121s 2ms/step - loss: 0.4960 - accuracy: 0.8350 - val_loss: 0.6568 - val_accuracy: 0.7943\n",
      "Epoch 28/30\n",
      "50000/50000 [==============================] - 120s 2ms/step - loss: 0.4891 - accuracy: 0.8379 - val_loss: 0.6253 - val_accuracy: 0.8032\n",
      "Epoch 29/30\n",
      "50000/50000 [==============================] - 126s 3ms/step - loss: 0.4791 - accuracy: 0.8409 - val_loss: 0.7174 - val_accuracy: 0.7831\n",
      "Epoch 30/30\n",
      "50000/50000 [==============================] - 126s 3ms/step - loss: 0.4650 - accuracy: 0.8457 - val_loss: 0.6668 - val_accuracy: 0.7876\n",
      "Test loss: 0.6668396245479584\n",
      "Test accuracy: 0.7875999808311462\n"
     ]
    }
   ],
   "source": [
    "model.compile(loss = keras.losses.categorical_crossentropy, \n",
    "             optimizer = keras.optimizers.Adadelta(), \n",
    "             metrics = ['accuracy'])\n",
    "model.fit(x_train, y_train, batch_size = batch_size, epochs = epochs, \n",
    "         verbose = 1, validation_data = (x_test, y_test))\n",
    "score = model.evaluate(x_test, y_test, verbose = 0)\n",
    "print('Test loss:', score[0])\n",
    "print('Test accuracy:', score[1])"
   ]
  },
  {
   "cell_type": "code",
   "execution_count": null,
   "metadata": {},
   "outputs": [],
   "source": []
  }
 ],
 "metadata": {
  "kernelspec": {
   "display_name": "Python 3 (ipykernel)",
   "language": "python",
   "name": "python3"
  },
  "language_info": {
   "codemirror_mode": {
    "name": "ipython",
    "version": 3
   },
   "file_extension": ".py",
   "mimetype": "text/x-python",
   "name": "python",
   "nbconvert_exporter": "python",
   "pygments_lexer": "ipython3",
   "version": "3.12.4"
  }
 },
 "nbformat": 4,
 "nbformat_minor": 4
}
